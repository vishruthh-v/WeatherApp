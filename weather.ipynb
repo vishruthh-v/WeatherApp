{
 "cells": [
  {
   "cell_type": "code",
   "execution_count": 3,
   "metadata": {},
   "outputs": [
    {
     "ename": "SyntaxError",
     "evalue": "invalid syntax (741820718.py, line 8)",
     "output_type": "error",
     "traceback": [
      "\u001b[1;36m  Cell \u001b[1;32mIn[3], line 8\u001b[1;36m\u001b[0m\n\u001b[1;33m    pip install pillow\u001b[0m\n\u001b[1;37m        ^\u001b[0m\n\u001b[1;31mSyntaxError\u001b[0m\u001b[1;31m:\u001b[0m invalid syntax\n"
     ]
    }
   ],
   "source": [
    "import requests\n",
    "\n",
    "# Your OpenWeatherMap API key\n",
    "API_KEY = '9c73fe3d75a19e7a79f2fe4b3d836f75'\n",
    "BASE_URL = \"http://api.openweathermap.org/data/2.5/weather\"\n",
    "\n",
    "def get_weather(city_name):\n",
    "    # Building the complete API URL\n",
    "    url = f\"{BASE_URL}?q={city_name}&appid={API_KEY}&units=metric\"  # Units set to metric for Celsius\n",
    "    \n",
    "    # Sending the GET request to the OpenWeatherMap API\n",
    "    response = requests.get(url)\n",
    "    \n",
    "    # Check if the response is successful\n",
    "    if response.status_code == 200:\n",
    "        # Parse the JSON data\n",
    "        data = response.json()\n",
    "        \n",
    "        # Extract and print relevant weather details\n",
    "        city = data['name']\n",
    "        country = data['sys']['country']\n",
    "        temperature = data['main']['temp']\n",
    "        pressure = data['main']['pressure']\n",
    "        humidity = data['main']['humidity']\n",
    "        weather_description = data['weather'][0]['description']\n",
    "        wind_speed = data['wind']['speed']\n",
    "        \n",
    "        print(f\"Weather for {city}, {country}:\")\n",
    "        print(f\"Temperature: {temperature}°C\")\n",
    "        print(f\"Pressure: {pressure} hPa\")\n",
    "        print(f\"Humidity: {humidity}%\")\n",
    "        print(f\"Weather Description: {weather_description}\")\n",
    "        print(f\"Wind Speed: {wind_speed} m/s\")\n",
    "    \n",
    "    else:\n",
    "        print(\"Error: Unable to fetch weather data. Please check the city name or API key.\")\n",
    "\n",
    "if __name__ == \"__main__\":\n",
    "    city = input(\"Enter the city name: \")\n",
    "    get_weather(city)\n"
   ]
  },
  {
   "cell_type": "code",
   "execution_count": null,
   "metadata": {},
   "outputs": [],
   "source": []
  }
 ],
 "metadata": {
  "kernelspec": {
   "display_name": "Python 3",
   "language": "python",
   "name": "python3"
  },
  "language_info": {
   "codemirror_mode": {
    "name": "ipython",
    "version": 3
   },
   "file_extension": ".py",
   "mimetype": "text/x-python",
   "name": "python",
   "nbconvert_exporter": "python",
   "pygments_lexer": "ipython3",
   "version": "3.13.1"
  }
 },
 "nbformat": 4,
 "nbformat_minor": 2
}
